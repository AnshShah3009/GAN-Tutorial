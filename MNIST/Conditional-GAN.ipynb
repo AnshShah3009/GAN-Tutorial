{
 "cells": [
  {
   "attachments": {},
   "cell_type": "markdown",
   "metadata": {},
   "source": [
    "# Implementation of Conditional GANs\n",
    "Reference: https://arxiv.org/pdf/1411.1784.pdf"
   ]
  },
  {
   "cell_type": "code",
   "execution_count": null,
   "metadata": {
    "collapsed": true
   },
   "outputs": [],
   "source": [
    "# Run the comment below only when using Google Colab\n",
    "# !pip install torch torchvision"
   ]
  },
  {
   "cell_type": "code",
   "execution_count": 1,
   "metadata": {
    "collapsed": true
   },
   "outputs": [],
   "source": [
    "import torch\n",
    "import torchvision\n",
    "import torch.nn as nn\n",
    "import torch.nn.functional as F"
   ]
  },
  {
   "cell_type": "code",
   "execution_count": 2,
   "metadata": {
    "collapsed": true
   },
   "outputs": [],
   "source": [
    "from torch.utils.data import DataLoader\n",
    "from torchvision import datasets\n",
    "from torchvision import transforms\n",
    "from torchvision.utils import save_image"
   ]
  },
  {
   "cell_type": "code",
   "execution_count": 3,
   "metadata": {
    "collapsed": true
   },
   "outputs": [],
   "source": [
    "import numpy as np\n",
    "import datetime\n",
    "import os, sys\n",
    "from tqdm import tqdm"
   ]
  },
  {
   "cell_type": "code",
   "execution_count": 4,
   "metadata": {
    "collapsed": true
   },
   "outputs": [],
   "source": [
    "from matplotlib.pyplot import imshow, imsave\n",
    "%matplotlib inline"
   ]
  },
  {
   "cell_type": "code",
   "execution_count": 5,
   "metadata": {
    "collapsed": true
   },
   "outputs": [],
   "source": [
    "MODEL_NAME = 'ConditionalGAN'\n",
    "DEVICE = torch.device(\"cuda:0\" if torch.cuda.is_available() else \"cpu\")\n",
    "print(DEVICE)"
   ]
  },
  {
   "cell_type": "code",
   "execution_count": 6,
   "metadata": {
    "collapsed": true
   },
   "outputs": [],
   "source": [
    "def to_onehot(x, num_classes=10):\n",
    "    assert isinstance(x, int) or isinstance(x, (torch.LongTensor, torch.cuda.LongTensor))\n",
    "    if isinstance(x, int):\n",
    "        c = torch.zeros(1, num_classes).long()\n",
    "        c[0][x] = 1\n",
    "    else:\n",
    "        x = x.cpu()\n",
    "        c = torch.LongTensor(x.size(0), num_classes)\n",
    "        c.zero_()\n",
    "        c.scatter_(1, x, 1) # dim, index, src value\n",
    "    return c"
   ]
  },
  {
   "cell_type": "code",
   "execution_count": 7,
   "metadata": {
    "collapsed": true
   },
   "outputs": [],
   "source": [
    "def get_sample_image(G, n_noise=100):\n",
    "    \"\"\"\n",
    "        save sample 100 images\n",
    "    \"\"\"\n",
    "    img = np.zeros([280, 280])\n",
    "    for j in range(10):\n",
    "        c = torch.zeros([10, 10]).to(DEVICE)\n",
    "        c[:, j] = 1\n",
    "        z = torch.randn(10, n_noise).to(DEVICE)\n",
    "        y_hat = G(z,c).view(10, 28, 28)\n",
    "        result = y_hat.cpu().data.numpy()\n",
    "        img[j*28:(j+1)*28] = np.concatenate([x for x in result], axis=-1)\n",
    "    return img"
   ]
  },
  {
   "cell_type": "code",
   "execution_count": 8,
   "metadata": {
    "collapsed": true
   },
   "outputs": [],
   "source": [
    "class Discriminator(nn.Module):\n",
    "    \"\"\"\n",
    "        Simple Discriminator w/ MLP\n",
    "    \"\"\"\n",
    "    def __init__(self, input_size=784, condition_size=10, num_classes=1):\n",
    "        super(Discriminator, self).__init__()\n",
    "        self.layer = nn.Sequential(\n",
    "            nn.Linear(input_size+condition_size, 512),\n",
    "            nn.LeakyReLU(0.2),\n",
    "            nn.Linear(512, 256),\n",
    "            nn.LeakyReLU(0.2),\n",
    "            nn.Linear(256, num_classes),\n",
    "            nn.Sigmoid(),\n",
    "        )\n",
    "    \n",
    "    def forward(self, x, c):        \n",
    "        x, c = x.view(x.size(0), -1), c.view(c.size(0), -1).float()\n",
    "        v = torch.cat((x, c), 1) # v: [input, label] concatenated vector\n",
    "        y_ = self.layer(v)\n",
    "        return y_"
   ]
  },
  {
   "cell_type": "code",
   "execution_count": 9,
   "metadata": {
    "collapsed": true
   },
   "outputs": [],
   "source": [
    "class Generator(nn.Module):\n",
    "    \"\"\"\n",
    "        Simple Generator w/ MLP\n",
    "    \"\"\"\n",
    "    def __init__(self, input_size=100, condition_size=10, num_classes=784):\n",
    "        super(Generator, self).__init__()\n",
    "        self.layer = nn.Sequential(\n",
    "            nn.Linear(input_size+condition_size, 128),\n",
    "            nn.LeakyReLU(0.2),\n",
    "            nn.Linear(128, 256),\n",
    "            nn.BatchNorm1d(256),\n",
    "            nn.LeakyReLU(0.2),\n",
    "            nn.Linear(256, 512),\n",
    "            nn.BatchNorm1d(512),\n",
    "            nn.LeakyReLU(0.2),\n",
    "            nn.Linear(512, 1024),\n",
    "            nn.BatchNorm1d(1024),\n",
    "            nn.LeakyReLU(0.2),\n",
    "            nn.Linear(1024, num_classes),\n",
    "            nn.Tanh()\n",
    "        )\n",
    "        \n",
    "    def forward(self, x, c):\n",
    "        x, c = x.view(x.size(0), -1), c.view(c.size(0), -1).float()\n",
    "        v = torch.cat((x, c), 1) # v: [input, label] concatenated vector\n",
    "        y_ = self.layer(v)\n",
    "        y_ = y_.view(x.size(0), 1, 28, 28)\n",
    "        return y_"
   ]
  },
  {
   "cell_type": "code",
   "execution_count": 10,
   "metadata": {
    "collapsed": true
   },
   "outputs": [],
   "source": [
    "D = Discriminator().to(DEVICE)\n",
    "G = Generator().to(DEVICE)"
   ]
  },
  {
   "cell_type": "code",
   "execution_count": 11,
   "metadata": {
    "collapsed": true
   },
   "outputs": [],
   "source": [
    "transform = transforms.Compose([transforms.ToTensor(),\n",
    "                                transforms.Normalize(mean=[0.5],\n",
    "                                std=[0.5])]\n",
    ")"
   ]
  },
  {
   "cell_type": "code",
   "execution_count": 12,
   "metadata": {
    "collapsed": true
   },
   "outputs": [],
   "source": [
    "mnist = datasets.MNIST(root='../data/', train=True, transform=transform, download=True)"
   ]
  },
  {
   "cell_type": "code",
   "execution_count": 13,
   "metadata": {
    "collapsed": true
   },
   "outputs": [],
   "source": [
    "batch_size = 64\n",
    "condition_size = 10"
   ]
  },
  {
   "cell_type": "code",
   "execution_count": 14,
   "metadata": {
    "collapsed": true
   },
   "outputs": [],
   "source": [
    "data_loader = DataLoader(dataset=mnist, batch_size=batch_size, shuffle=True, drop_last=True)"
   ]
  },
  {
   "cell_type": "code",
   "execution_count": 15,
   "metadata": {
    "collapsed": true
   },
   "outputs": [],
   "source": [
    "criterion = nn.BCELoss()\n",
    "D_opt = torch.optim.Adam(D.parameters(), lr=0.0002, betas=(0.5, 0.999))\n",
    "G_opt = torch.optim.Adam(G.parameters(), lr=0.0002, betas=(0.5, 0.999))"
   ]
  },
  {
   "cell_type": "code",
   "execution_count": 16,
   "metadata": {
    "collapsed": true
   },
   "outputs": [],
   "source": [
    "max_epoch = 30 # need more than 100 epochs for training generator\n",
    "step = 0\n",
    "n_critic = 1 # for training more k steps about Discriminator\n",
    "n_noise = 100"
   ]
  },
  {
   "cell_type": "code",
   "execution_count": 17,
   "metadata": {
    "collapsed": true
   },
   "outputs": [],
   "source": [
    "D_labels = torch.ones([batch_size, 1]).to(DEVICE) # Discriminator Label to real\n",
    "D_fakes = torch.zeros([batch_size, 1]).to(DEVICE) # Discriminator Label to fake"
   ]
  },
  {
   "cell_type": "code",
   "execution_count": 18,
   "metadata": {
    "collapsed": true
   },
   "outputs": [],
   "source": [
    "if not os.path.exists('samples'):\n",
    "    os.makedirs('samples')"
   ]
  },
  {
   "cell_type": "code",
   "execution_count": 19,
   "metadata": {
    "scrolled": true
   },
   "outputs": [
    {
     "name": "stdout",
     "output_type": "stream",
     "text": [
      "Epoch: 0/30, Step: 500, D Loss: 1.036657691001892, G Loss: 0.9185525178909302\n",
      "Epoch: 1/30, Step: 1000, D Loss: 1.1014388799667358, G Loss: 1.0158565044403076\n",
      "Epoch: 1/30, Step: 1500, D Loss: 1.017891764640808, G Loss: 0.5917305946350098\n",
      "Epoch: 2/30, Step: 2000, D Loss: 1.0990983247756958, G Loss: 1.2299494743347168\n",
      "Epoch: 2/30, Step: 2500, D Loss: 0.9987165331840515, G Loss: 1.0967953205108643\n",
      "Epoch: 3/30, Step: 3000, D Loss: 1.0531857013702393, G Loss: 0.805138885974884\n",
      "Epoch: 3/30, Step: 3500, D Loss: 1.0865103006362915, G Loss: 1.1308486461639404\n",
      "Epoch: 4/30, Step: 4000, D Loss: 1.316153883934021, G Loss: 1.4331691265106201\n",
      "Epoch: 4/30, Step: 4500, D Loss: 1.2097547054290771, G Loss: 0.9566960334777832\n",
      "Epoch: 5/30, Step: 5000, D Loss: 1.3060839176177979, G Loss: 1.0760974884033203\n",
      "Epoch: 5/30, Step: 5500, D Loss: 1.1368037462234497, G Loss: 1.1087679862976074\n",
      "Epoch: 6/30, Step: 6000, D Loss: 1.2275606393814087, G Loss: 0.7947745323181152\n",
      "Epoch: 6/30, Step: 6500, D Loss: 1.2633943557739258, G Loss: 0.6697460412979126\n",
      "Epoch: 7/30, Step: 7000, D Loss: 1.1676291227340698, G Loss: 0.876056969165802\n",
      "Epoch: 8/30, Step: 7500, D Loss: 1.2297134399414062, G Loss: 1.0675418376922607\n",
      "Epoch: 8/30, Step: 8000, D Loss: 1.2598073482513428, G Loss: 1.0166195631027222\n",
      "Epoch: 9/30, Step: 8500, D Loss: 1.3194297552108765, G Loss: 1.5806450843811035\n",
      "Epoch: 9/30, Step: 9000, D Loss: 1.493754267692566, G Loss: 0.5422479510307312\n",
      "Epoch: 10/30, Step: 9500, D Loss: 1.393540620803833, G Loss: 1.2079241275787354\n",
      "Epoch: 10/30, Step: 10000, D Loss: 1.2525854110717773, G Loss: 0.844454824924469\n",
      "Epoch: 11/30, Step: 10500, D Loss: 1.4267148971557617, G Loss: 0.5226021409034729\n",
      "Epoch: 11/30, Step: 11000, D Loss: 1.3154008388519287, G Loss: 1.0357294082641602\n",
      "Epoch: 12/30, Step: 11500, D Loss: 1.2607324123382568, G Loss: 0.7632520198822021\n",
      "Epoch: 12/30, Step: 12000, D Loss: 1.2418172359466553, G Loss: 0.8889996409416199\n",
      "Epoch: 13/30, Step: 12500, D Loss: 1.3362860679626465, G Loss: 0.8968085646629333\n",
      "Epoch: 13/30, Step: 13000, D Loss: 1.2870495319366455, G Loss: 0.8639671802520752\n",
      "Epoch: 14/30, Step: 13500, D Loss: 1.313111662864685, G Loss: 0.7909728288650513\n",
      "Epoch: 14/30, Step: 14000, D Loss: 1.3023371696472168, G Loss: 0.7487360239028931\n",
      "Epoch: 15/30, Step: 14500, D Loss: 1.2976658344268799, G Loss: 0.9248465299606323\n",
      "Epoch: 16/30, Step: 15000, D Loss: 1.3270314931869507, G Loss: 0.8751394748687744\n",
      "Epoch: 16/30, Step: 15500, D Loss: 1.3797385692596436, G Loss: 0.7970761656761169\n",
      "Epoch: 17/30, Step: 16000, D Loss: 1.29557204246521, G Loss: 0.8374907374382019\n",
      "Epoch: 17/30, Step: 16500, D Loss: 1.3149912357330322, G Loss: 0.9167639017105103\n",
      "Epoch: 18/30, Step: 17000, D Loss: 1.301594853401184, G Loss: 0.8182051777839661\n",
      "Epoch: 18/30, Step: 17500, D Loss: 1.2963449954986572, G Loss: 0.7822583317756653\n",
      "Epoch: 19/30, Step: 18000, D Loss: 1.3422776460647583, G Loss: 0.8751208186149597\n",
      "Epoch: 19/30, Step: 18500, D Loss: 1.3826189041137695, G Loss: 0.7738077044487\n",
      "Epoch: 20/30, Step: 19000, D Loss: 1.3043901920318604, G Loss: 0.8847906589508057\n",
      "Epoch: 20/30, Step: 19500, D Loss: 1.3643009662628174, G Loss: 0.7579598426818848\n",
      "Epoch: 21/30, Step: 20000, D Loss: 1.3725740909576416, G Loss: 0.8713376522064209\n",
      "Epoch: 21/30, Step: 20500, D Loss: 1.3675336837768555, G Loss: 0.6800622940063477\n",
      "Epoch: 22/30, Step: 21000, D Loss: 1.328478455543518, G Loss: 0.8010445833206177\n",
      "Epoch: 22/30, Step: 21500, D Loss: 1.2901370525360107, G Loss: 0.7903639078140259\n",
      "Epoch: 23/30, Step: 22000, D Loss: 1.3740167617797852, G Loss: 0.7188965678215027\n",
      "Epoch: 24/30, Step: 22500, D Loss: 1.3559741973876953, G Loss: 0.7523510456085205\n",
      "Epoch: 24/30, Step: 23000, D Loss: 1.3947091102600098, G Loss: 0.8877040147781372\n",
      "Epoch: 25/30, Step: 23500, D Loss: 1.3366261720657349, G Loss: 0.7491698861122131\n",
      "Epoch: 25/30, Step: 24000, D Loss: 1.3519549369812012, G Loss: 0.7902757525444031\n",
      "Epoch: 26/30, Step: 24500, D Loss: 1.3612239360809326, G Loss: 0.7084876298904419\n",
      "Epoch: 26/30, Step: 25000, D Loss: 1.3272916078567505, G Loss: 0.8394737243652344\n",
      "Epoch: 27/30, Step: 25500, D Loss: 1.2812349796295166, G Loss: 0.8942346572875977\n",
      "Epoch: 27/30, Step: 26000, D Loss: 1.417182207107544, G Loss: 0.8112509250640869\n",
      "Epoch: 28/30, Step: 26500, D Loss: 1.3233587741851807, G Loss: 0.8840529918670654\n",
      "Epoch: 28/30, Step: 27000, D Loss: 1.408776044845581, G Loss: 0.7207623720169067\n",
      "Epoch: 29/30, Step: 27500, D Loss: 1.3049994707107544, G Loss: 0.780764639377594\n",
      "Epoch: 29/30, Step: 28000, D Loss: 1.344968557357788, G Loss: 0.7138490080833435\n"
     ]
    }
   ],
   "source": [
    "for epoch in tqdm(range(max_epoch)):\n",
    "    for idx, (images, labels) in enumerate(data_loader):\n",
    "        # Training Discriminator\n",
    "        x = images.to(DEVICE)\n",
    "        y = labels.view(batch_size, 1)\n",
    "        y = to_onehot(y).to(DEVICE)\n",
    "        x_outputs = D(x, y)\n",
    "        D_x_loss = criterion(x_outputs, D_labels)\n",
    "\n",
    "        z = torch.randn(batch_size, n_noise).to(DEVICE)\n",
    "        z_outputs = D(G(z, y), y)\n",
    "        D_z_loss = criterion(z_outputs, D_fakes)\n",
    "        D_loss = D_x_loss + D_z_loss\n",
    "        \n",
    "        D.zero_grad()\n",
    "        D_loss.backward()\n",
    "        D_opt.step()\n",
    "        \n",
    "        if step % n_critic == 0:\n",
    "            # Training Generator\n",
    "            z = torch.randn(batch_size, n_noise).to(DEVICE)\n",
    "            z_outputs = D(G(z, y), y)\n",
    "            G_loss = criterion(z_outputs, D_labels)\n",
    "\n",
    "            G.zero_grad()\n",
    "            G_loss.backward()\n",
    "            G_opt.step()\n",
    "        \n",
    "        if step % 500 == 0:\n",
    "            print('Epoch: {}/{}, Step: {}, D Loss: {}, G Loss: {}'.format(epoch, max_epoch, step, D_loss.item(), G_loss.item()))\n",
    "        \n",
    "        if step % 1000 == 0:\n",
    "            G.eval()\n",
    "            img = get_sample_image(G, n_noise)\n",
    "            imsave('samples/{}_step{}.jpg'.format(MODEL_NAME, str(step).zfill(3)), img, cmap='gray')\n",
    "            G.train()\n",
    "        step += 1"
   ]
  },
  {
   "attachments": {},
   "cell_type": "markdown",
   "metadata": {},
   "source": [
    "## Sample"
   ]
  },
  {
   "cell_type": "code",
   "execution_count": 20,
   "metadata": {},
   "outputs": [
    {
     "data": {
      "text/plain": [
       "<matplotlib.image.AxesImage at 0x219b2a6c400>"
      ]
     },
     "execution_count": 20,
     "metadata": {},
     "output_type": "execute_result"
    },
    {
     "data": {
      "image/png": "[encoded data removed]",
      "text/plain": [
       "<matplotlib.figure.Figure at 0x219af603080>"
      ]
     },
     "metadata": {},
     "output_type": "display_data"
    }
   ],
   "source": [
    "# generation to image\n",
    "G.eval()\n",
    "imshow(get_sample_image(G, n_noise), cmap='gray')"
   ]
  },
  {
   "cell_type": "code",
   "execution_count": 40,
   "metadata": {
    "collapsed": true
   },
   "outputs": [],
   "source": [
    "def save_checkpoint(state, file_name='Checkpoint/Conditional-GAN/checkpoint.pth.tar'):\n",
    "    torch.save(state, file_name)"
   ]
  },
  {
   "cell_type": "code",
   "execution_count": 41,
   "metadata": {
    "collapsed": true
   },
   "outputs": [],
   "source": [
    "# Saving params.\n",
    "save_checkpoint({'epoch': epoch + 1, 'state_dict':D.state_dict(), 'optimizer' : D_opt.state_dict()}, 'Checkpoint/Conditional-GAN/D_c.pth.tar')\n",
    "save_checkpoint({'epoch': epoch + 1, 'state_dict':G.state_dict(), 'optimizer' : G_opt.state_dict()}, 'Checkpoint/Conditional-GAN/G_c.pth.tar')"
   ]
  },
  {
   "cell_type": "code",
   "execution_count": null,
   "metadata": {
    "collapsed": true
   },
   "outputs": [],
   "source": []
  }
 ],
 "metadata": {
  "kernelspec": {
   "display_name": "Python 3",
   "language": "python",
   "name": "python3"
  },
  "language_info": {
   "codemirror_mode": {
    "name": "ipython",
    "version": 3
   },
   "file_extension": ".py",
   "mimetype": "text/x-python",
   "name": "python",
   "nbconvert_exporter": "python",
   "pygments_lexer": "ipython3",
   "version": "3.11.3"
  }
 },
 "nbformat": 4,
 "nbformat_minor": 2
}
